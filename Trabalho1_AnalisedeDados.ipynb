{
  "nbformat": 4,
  "nbformat_minor": 0,
  "metadata": {
    "colab": {
      "provenance": [],
      "include_colab_link": true
    },
    "kernelspec": {
      "name": "python3",
      "display_name": "Python 3"
    },
    "language_info": {
      "name": "python"
    }
  },
  "cells": [
    {
      "cell_type": "markdown",
      "metadata": {
        "id": "view-in-github",
        "colab_type": "text"
      },
      "source": [
        "<a href=\"https://colab.research.google.com/github/iamandamedeiros/analise-de-dados/blob/main/Trabalho1_AnalisedeDados.ipynb\" target=\"_parent\"><img src=\"https://colab.research.google.com/assets/colab-badge.svg\" alt=\"Open In Colab\"/></a>"
      ]
    },
    {
      "cell_type": "markdown",
      "source": [
        "# **Nome dos integrantes:**\n",
        "\n",
        "*   AMANDA LETÍCIA PEREIRA MEDEIROS - Matrícula: 20249015285\n",
        "\n",
        "*   JOSEMBERG NASCIMENTO CORDEIRO - Matrícula: 20249006900\n",
        "\n",
        "*   LUAN MARQUES DE ANDRADE - Matrícula: 20239049898\n",
        "\n",
        "\n",
        "\n",
        "\n",
        "\n"
      ],
      "metadata": {
        "id": "8Kxm_WZrtnL1"
      }
    },
    {
      "cell_type": "markdown",
      "source": [
        "\n",
        "# **Descrição do site a ser monitorado:**\n",
        "\n",
        "\n",
        "O site a ser monitorado é - https://edition.cnn.com/article/sitemap-2024.html\n",
        "\n",
        "É o mapa do site (sitemap) da CNN para o ano de 2024.\n",
        "\n",
        "Um mapa do site é uma página que lista todas as páginas importantes de um site, organizadas de maneira hierárquica, servindo para ajudar a navegar pelo conteúdo do site de forma mais eficiente.\n",
        "\n",
        "No caso da CNN, o mapa do site para 2024 inclui links para artigos, reportagens, vídeos e outros conteúdos publicados pela CNN durante o ano de 2024, facilitando a navegação e a descoberta de conteúdos específicos dentro do site.\n"
      ],
      "metadata": {
        "id": "YszKRYzivrK0"
      }
    },
    {
      "cell_type": "markdown",
      "source": [
        "# **Proposta de monitoramento:**\n",
        "\n",
        "A proposta consiste em monitorar os dados do site da CNN para que o gestor da redação ou o diretor de jornalismo, desse meio de comunicação, possa tomar decisões sobre a necessidade de que sejam publicados ou não mais artigos com conteúdo relacionado à guerra entre a Ucrânia e a Rússia. Estabelecemos hipoteticamente uma meta de **48 artigos por ano**, para conseguir alcançar a média de **4 artigos por mês**.\n",
        "\n",
        "Desta maneira o gestor da redação poderá avaliar a produção e tomar decisões para recalcular a rota, caso seja necessário, e conseguir cumprir o objetivo a respeito do números de artigos mínimos para essa temática.\n",
        "\n"
      ],
      "metadata": {
        "id": "pitBV3cIwJiy"
      }
    },
    {
      "cell_type": "markdown",
      "source": [
        "# **Link da apresentação:**"
      ],
      "metadata": {
        "id": "yVE8g5aMwSwf"
      }
    },
    {
      "cell_type": "markdown",
      "source": [
        "# **Descrição passo a passo de como o monitoramento foi realizado. Mostrando os comandos executados e os resultados obtidos:**"
      ],
      "metadata": {
        "id": "StjJIrQ7v0Eq"
      }
    },
    {
      "cell_type": "markdown",
      "source": [
        "1 - Primeiro foram importadas as bibliotecas \"BeautifulSoup\", usada para analisar HTML e XML, \"Requests\", usada para fazer requisições HTTP, o módulo \"time\" para funções relacionadas ao tempo e o módulo \"math\" para realizar cálculos matemáticos. Usamos um \"print\" para confirmar que as importações foram feitas com sucesso."
      ],
      "metadata": {
        "id": "TuKofv4oass6"
      }
    },
    {
      "cell_type": "code",
      "source": [
        "#importacoes\n",
        "from bs4 import BeautifulSoup\n",
        "import requests\n",
        "import time\n",
        "import math\n",
        "\n",
        "print('Importações realizadas!')"
      ],
      "metadata": {
        "id": "gTJ9eBADPuyw",
        "colab": {
          "base_uri": "https://localhost:8080/"
        },
        "outputId": "b72a8c0e-b4de-4177-af4c-ba99b79806c5"
      },
      "execution_count": null,
      "outputs": [
        {
          "output_type": "stream",
          "name": "stdout",
          "text": [
            "Importações realizadas!\n"
          ]
        }
      ]
    },
    {
      "cell_type": "markdown",
      "source": [
        "2 - Na sequência, foi definida a função \"extrair_links_mensais\", que recebe um parâmetro url, que é a URL da página da web que será raspada. O bloco try é usado para capturar e tratar exceções que podem ocorrer durante a execução do código. Após isso, fez-se uma requisição GET para a URL fornecida. E uma verificação que confirma se a requisição foi bem-sucedida. Se houver um erro HTTP (por exemplo, 404 ou 500), a requisição levantará uma exceção.\n",
        "\n",
        "3 - Posteriormente, realizou-se a extração dos links do sitemap. Usando a função \"extrair_links_mensais\", que é usada para extrair os links de cada mês do sitemap específico (https://edition.cnn.com/article/sitemap-2024.html)."
      ],
      "metadata": {
        "id": "Ys4G3-L2a6Zb"
      }
    },
    {
      "cell_type": "code",
      "source": [
        "# Função para fazer o scraping\n",
        "def extrair_links_mensais(url):\n",
        "    try:\n",
        "        # Fazer a requisição à URL\n",
        "        response = requests.get(url)\n",
        "        response.raise_for_status()  # Verificar erros na requisição\n",
        "\n",
        "        # Parsear o conteúdo HTML\n",
        "        soup = BeautifulSoup(response.text, 'html.parser')\n",
        "\n",
        "        # Encontrar todos os links\n",
        "        links = soup.find_all('a')\n",
        "\n",
        "        # Extrair os href dos links\n",
        "        hrefs = ['https://edition.cnn.com'+ link.get('href') for link in links if link.get('href') and link.get('href').startswith('/article/sitemap-2024')]\n",
        "\n",
        "        return hrefs\n",
        "\n",
        "    except requests.exceptions.RequestException as e:\n",
        "        print(f\"Erro ao acessar {url}: {e}\")\n",
        "        return []\n",
        "\n",
        "# Extração dos links do sitemap\n",
        "urls_mensais = extrair_links_mensais('https://edition.cnn.com/article/sitemap-2024.html')\n",
        "\n",
        "print('Lista de links mensais criada!')\n",
        "urls_mensais"
      ],
      "metadata": {
        "id": "Wot-mU3GPZqZ",
        "colab": {
          "base_uri": "https://localhost:8080/"
        },
        "outputId": "4825ef0a-5e00-428d-eec3-fa9fac891f8a"
      },
      "execution_count": null,
      "outputs": [
        {
          "output_type": "stream",
          "name": "stdout",
          "text": [
            "Lista de links mensais criada!\n"
          ]
        },
        {
          "output_type": "execute_result",
          "data": {
            "text/plain": [
              "['https://edition.cnn.com/article/sitemap-2024-1.html',\n",
              " 'https://edition.cnn.com/article/sitemap-2024-2.html',\n",
              " 'https://edition.cnn.com/article/sitemap-2024-3.html',\n",
              " 'https://edition.cnn.com/article/sitemap-2024-4.html',\n",
              " 'https://edition.cnn.com/article/sitemap-2024-5.html']"
            ]
          },
          "metadata": {},
          "execution_count": 2
        }
      ]
    },
    {
      "cell_type": "markdown",
      "source": [
        "4 - A função \"extrair_links_artigos\" é usada para extrair links dos artigos completos da URL. Ambas as funções fazem requisições HTTP, analisam o conteúdo HTML e extraem os links específicos. Também tratamos as exceções que podem ocorrer durante a requisição e retornamos uma lista vazia em caso de erro."
      ],
      "metadata": {
        "id": "DXqbiQzqcnIx"
      }
    },
    {
      "cell_type": "code",
      "execution_count": null,
      "metadata": {
        "id": "7baQyGnj5AXd",
        "colab": {
          "base_uri": "https://localhost:8080/"
        },
        "outputId": "fc20126b-ea92-42fb-bb09-bd2721d14720"
      },
      "outputs": [
        {
          "output_type": "stream",
          "name": "stdout",
          "text": [
            "Função \"extrair_links_artigos\" configurada!\n"
          ]
        }
      ],
      "source": [
        "# Função para fazer o scraping\n",
        "def extrair_links_artigos(url):\n",
        "    try:\n",
        "        # Fazer a requisição à URL\n",
        "        response = requests.get(url)\n",
        "        response.raise_for_status()  # Verificar erros na requisição\n",
        "\n",
        "        # Parsear o conteúdo HTML\n",
        "        soup = BeautifulSoup(response.text, 'html.parser')\n",
        "        links = soup.find_all('a')\n",
        "\n",
        "        # Extrair os hrefs de artigos completos\n",
        "        hrefs = [link.get('href') for link in soup.find_all('a')\n",
        "                 if link.get('href') and link.get('href').startswith('https://edition.cnn.com/')]\n",
        "\n",
        "        return hrefs\n",
        "\n",
        "    except requests.exceptions.RequestException as e:\n",
        "        print(f\"Erro ao acessar {url}: {e}\")\n",
        "        return []\n",
        "\n",
        "print('Função \"extrair_links_artigos\" configurada!')"
      ]
    },
    {
      "cell_type": "markdown",
      "source": [
        "5 - Em sequência, criamos uma lista vazia \"links_2024\" para armazenar os links e fizemos um loop for que itera sobre cada URL na lista \"urls_mensais\". Logo após, realizamos a extração de dados, chamando a função \"extrair_links_artigos\" para cada URL e armazenando os links extraídos. Com isso, adicionamos a lista de links extraídos à lista \"links_2024\". Fizemos também a concatenação de todas as sublistas em \"links_2024\" em uma única lista contínua de linksn, armazenando na variável \"links\"."
      ],
      "metadata": {
        "id": "tW6hueXKbeIC"
      }
    },
    {
      "cell_type": "code",
      "source": [
        "# Armazenando todos os links de 2024 em uma lista\n",
        "links_2024 = []\n",
        "for i in urls_mensais:\n",
        "  data = extrair_links_artigos(i)\n",
        "  links_2024.append(data)\n",
        "\n",
        "# Variável com lista de links\n",
        "links = sum(links_2024, [])\n",
        "\n",
        "print('Varíavel com a lista de links dos artigos criada!')\n",
        "links"
      ],
      "metadata": {
        "id": "K2rvKJWfLfUw",
        "colab": {
          "base_uri": "https://localhost:8080/"
        },
        "outputId": "42804e02-c304-47ef-b864-3b55649bdbca"
      },
      "execution_count": null,
      "outputs": [
        {
          "output_type": "stream",
          "name": "stdout",
          "text": [
            "Varíavel com a lista de links dos artigos criada!\n"
          ]
        },
        {
          "output_type": "execute_result",
          "data": {
            "text/plain": [
              "['https://edition.cnn.com/europe/live-news/russia-military-plane-belgorod-ukraine-updates-intl/index.html',\n",
              " 'https://edition.cnn.com/2013/07/09/world/europe/eurozone-fast-facts/index.html',\n",
              " 'https://edition.cnn.com/2013/06/25/world/europe/vanessa-redgrave-fast-facts/index.html',\n",
              " 'https://edition.cnn.com/2013/07/16/world/europe/nicolas-sarkozy-fast-facts/index.html',\n",
              " 'https://edition.cnn.com/europe/live-news/alexey-navalny-funeral-moscow-russia/index.html',\n",
              " 'https://edition.cnn.com/europe/live-news/russia-ukraine-war-news-02-27-24/index.html',\n",
              " 'https://edition.cnn.com/europe/live-news/russia-ukraine-war-news-02-26-24/index.html',\n",
              " 'https://edition.cnn.com/europe/live-news/russia-ukraine-war-news-02-25-24/index.html',\n",
              " 'https://edition.cnn.com/europe/live-news/russia-ukraine-war-news-02-24-24/index.html',\n",
              " 'https://edition.cnn.com/europe/live-news/russia-ukraine-war-news-02-23-24/index.html',\n",
              " 'https://edition.cnn.com/2013/04/29/world/europe/ratko-mladic-fast-facts/index.html',\n",
              " 'https://edition.cnn.com/europe/live-news/russia-ukraine-war-news-02-22-24/index.html',\n",
              " 'https://edition.cnn.com/europe/live-news/russia-ukraine-war-news-02-21-24/index.html',\n",
              " 'https://edition.cnn.com/2013/11/04/world/europe/spain-train-bombings-fast-facts/index.html',\n",
              " 'https://edition.cnn.com/2021/03/18/europe/alexey-navalny-fast-facts/index.html',\n",
              " 'https://edition.cnn.com/europe/live-news/russia-ukraine-war-news-02-20-24/index.html',\n",
              " 'https://edition.cnn.com/europe/live-news/russia-ukraine-war-news-02-19-24/index.html',\n",
              " 'https://edition.cnn.com/europe/live-news/alexey-navalny-dead-russia-prison-02-16-24/index.html',\n",
              " 'https://edition.cnn.com/2018/04/16/europe/meghan-markle-fast-facts/index.html',\n",
              " 'https://edition.cnn.com/sport/live-news/super-bowl-chiefs-49ers-02-11-24/index.html',\n",
              " 'https://edition.cnn.com/2022/11/07/sport/football-violence-essay-lake-cec/index.html',\n",
              " 'https://edition.cnn.com/2013/06/27/world/europe/prince-charles-fast-facts/index.html',\n",
              " 'https://edition.cnn.com/2023/08/25/sport/iten-killings-women-athletes-domestic-violence-kenya-as-equals-intl-cmd/index.html',\n",
              " 'https://edition.cnn.com/2012/12/06/world/europe/duchess-catherine---fast-facts/index.html',\n",
              " 'https://edition.cnn.com/europe/live-news/russia-attack-moscow-03-25-24/index.html',\n",
              " 'https://edition.cnn.com/europe/live-news/moscow-russia-shooting-03-24-24/index.html',\n",
              " 'https://edition.cnn.com/europe/live-news/moscow-russia-shooting-03-23-24/index.html',\n",
              " 'https://edition.cnn.com/europe/live-news/moscow-russia-shooting-03-xx-24/index.html',\n",
              " 'https://edition.cnn.com/uk/live-news/princess-wales-catherine-cancer-intl/index.html',\n",
              " 'https://edition.cnn.com/2013/01/03/world/europe/vladimir-putin---fast-facts/index.html',\n",
              " 'https://edition.cnn.com/2016/08/02/europe/theresa-may-fast-facts/index.html',\n",
              " 'https://edition.cnn.com/2014/03/13/world/europe/2008-georgia-russia-conflict/index.html',\n",
              " 'https://edition.cnn.com/2013/08/05/world/europe/john-major-fast-facts/index.html',\n",
              " 'https://edition.cnn.com/2014/07/14/world/europe/cristiano-ronaldo-fast-facts/index.html',\n",
              " 'https://edition.cnn.com/2012/12/07/world/europe/prince-albert-of-monaco---fast-facts/index.html',\n",
              " 'https://edition.cnn.com/2012/12/27/world/europe/mario-monti---fast-facts/index.html',\n",
              " 'https://edition.cnn.com/europe/live-news/navalny-funeral-moscow-russia-03-01-24/index.html',\n",
              " 'https://edition.cnn.com/2013/05/16/world/europe/david-beckham-fast-facts/index.html',\n",
              " 'https://edition.cnn.com/2013/05/17/world/europe/tony-blair-fast-facts/index.html',\n",
              " 'https://edition.cnn.com/2023/04/22/football/wrexham-promotion-ryan-reynolds-rob-mcelhenney-spt-intl/index.html',\n",
              " 'https://edition.cnn.com/australia/live-news/sydney-mall-attack-updates-intl/index.html',\n",
              " 'https://edition.cnn.com/2013/03/25/world/europe/dominique-strauss-kahn-fast-facts/index.html',\n",
              " 'https://edition.cnn.com/2023/04/05/golf/black-caddies-masters-augusta-national-spt-spc-intl/index.html',\n",
              " 'https://edition.cnn.com/2023/04/03/golf/rory-mcilroy-masters-meltdown-2011-spt-spc-intl/index.html',\n",
              " 'https://edition.cnn.com/2023/04/04/golf/green-jacket-masters-history-spc-spt-intl/index.html',\n",
              " 'https://edition.cnn.com/2022/04/08/golf/caddies-white-jumpsuit-masters-spt-intl/index.html',\n",
              " 'https://edition.cnn.com/2022/12/16/golf/worlds-most-bizarre-golf-courses-spc-intl/index.html',\n",
              " 'https://edition.cnn.com/europe/live-news/russia-ukraine-war-news-05-15-24/index.html',\n",
              " 'https://edition.cnn.com/europe/live-news/russia-ukraine-war-news-05-14-24/index.html']"
            ]
          },
          "metadata": {},
          "execution_count": 4
        }
      ]
    },
    {
      "cell_type": "markdown",
      "source": [
        " 6 - Consequentemente, acrescentamos um cabeçalho que simula um navegador real (Mozilla, AppleWebKit, Chrome ou Safari) para evitar que o servidor bloqueie a requisição. Depois, colocamos uma lista de palavras-chave relacionadas à guerra na Ucrânia e criamos uma lista para armazenar os links dos artigos relacionados. Após isso, colocamos um loop para acessar cada link, fazer a requisição, processar o HTML, extrair a descrição do artigo e o conteúdo, verificar se menciona as palavras-chave e adicionar à lista em caso positivo. Adicionamos ainda um tratamento de erros que captura e imprime os erros de requisição e também colocamos um atraso entre as requisições para evitar o bloqueio. Depois, imprimimos o número de artigos encontrados e os links dos artigos."
      ],
      "metadata": {
        "id": "ZdVNIDETbuLG"
      }
    },
    {
      "cell_type": "code",
      "source": [
        "# Cabeçalhos para simular um navegador real\n",
        "headers = {\n",
        "    'User-Agent': 'Mozilla/5.0 (Windows NT 10.0; Win64; x64) AppleWebKit/537.36 (KHTML, like Gecko) Chrome/91.0.4472.124 Safari/537.36'\n",
        "}\n",
        "\n",
        "# Lista de palavras-chave relacionadas à guerra na Ucrânia\n",
        "keywords = ['Ukraine’s war', 'Russia’s invasion', 'invasion of Ukraine', 'Russia’s war', 'Russian military']\n",
        "\n",
        "# Lista para armazenar os links de artigos relacionados à Ucrânia\n",
        "artigos_guerra = []\n",
        "\n",
        "# Loop para acessar cada link e verificar se menciona Ucrânia ou guerra\n",
        "for link in links:\n",
        "    print(f\"Processando link: {link}\")\n",
        "    try:\n",
        "        # Fazer a requisição com os headers\n",
        "        response = requests.get(link, headers=headers)\n",
        "\n",
        "        # Verificar se a requisição foi bem-sucedida\n",
        "        if response.status_code == 200:\n",
        "           # Usando o BeautifulSoup para processar o HTML\n",
        "            soup = BeautifulSoup(response.text, 'html.parser')\n",
        "\n",
        "            # Extrair a descrição do artigo\n",
        "            meta_tag = soup.find('meta', attrs={'name': 'description'})\n",
        "            title_description = meta_tag.get('content') if meta_tag else \"\"\n",
        "\n",
        "             # Extrair o conteúdo dos parágrafos do artigo\n",
        "            paragraphs = soup.find_all('p')\n",
        "            body_content = \" \".join([p.get_text() for p in paragraphs])\n",
        "\n",
        "            # Verificar se o título ou conteúdo do body menciona qualquer uma das palavras-chave\n",
        "            if any(keyword.lower() in body_content.lower() for keyword in keywords) or \\\n",
        "            any(keyword.lower() in title_description.lower() for keyword in keywords):\n",
        "              artigos_guerra.append(link)\n",
        "        else:\n",
        "            print(f\"Erro: Status code {response.status_code} para o link {link}\")\n",
        "\n",
        "    except Exception as e:\n",
        "        print(f\"Erro ao acessar o link: {link}. Erro: {e}\")\n",
        "\n",
        "    # Adicionar um atraso entre as requisições para evitar bloqueio\n",
        "    time.sleep(1)\n",
        "\n",
        "# Exibir os links dos artigos relacionados à Ucrânia\n",
        "print(f\"Artigos sobre a guerra na Ucrânia encontrados: {len(artigos_guerra)}\")\n",
        "for artigos in artigos_guerra:\n",
        "    print(artigos)"
      ],
      "metadata": {
        "id": "ePexZ2gDBjWL",
        "colab": {
          "base_uri": "https://localhost:8080/"
        },
        "outputId": "181c4b2c-c101-4135-d4ed-d916e9ed8589"
      },
      "execution_count": null,
      "outputs": [
        {
          "output_type": "stream",
          "name": "stdout",
          "text": [
            "Processando link: https://edition.cnn.com/europe/live-news/russia-military-plane-belgorod-ukraine-updates-intl/index.html\n",
            "Processando link: https://edition.cnn.com/2013/07/09/world/europe/eurozone-fast-facts/index.html\n",
            "Processando link: https://edition.cnn.com/2013/06/25/world/europe/vanessa-redgrave-fast-facts/index.html\n",
            "Processando link: https://edition.cnn.com/2013/07/16/world/europe/nicolas-sarkozy-fast-facts/index.html\n",
            "Processando link: https://edition.cnn.com/europe/live-news/alexey-navalny-funeral-moscow-russia/index.html\n",
            "Processando link: https://edition.cnn.com/europe/live-news/russia-ukraine-war-news-02-27-24/index.html\n",
            "Processando link: https://edition.cnn.com/europe/live-news/russia-ukraine-war-news-02-26-24/index.html\n",
            "Processando link: https://edition.cnn.com/europe/live-news/russia-ukraine-war-news-02-25-24/index.html\n",
            "Processando link: https://edition.cnn.com/europe/live-news/russia-ukraine-war-news-02-24-24/index.html\n",
            "Processando link: https://edition.cnn.com/europe/live-news/russia-ukraine-war-news-02-23-24/index.html\n",
            "Processando link: https://edition.cnn.com/2013/04/29/world/europe/ratko-mladic-fast-facts/index.html\n",
            "Processando link: https://edition.cnn.com/europe/live-news/russia-ukraine-war-news-02-22-24/index.html\n",
            "Processando link: https://edition.cnn.com/europe/live-news/russia-ukraine-war-news-02-21-24/index.html\n",
            "Processando link: https://edition.cnn.com/2013/11/04/world/europe/spain-train-bombings-fast-facts/index.html\n",
            "Processando link: https://edition.cnn.com/2021/03/18/europe/alexey-navalny-fast-facts/index.html\n",
            "Processando link: https://edition.cnn.com/europe/live-news/russia-ukraine-war-news-02-20-24/index.html\n",
            "Processando link: https://edition.cnn.com/europe/live-news/russia-ukraine-war-news-02-19-24/index.html\n",
            "Processando link: https://edition.cnn.com/europe/live-news/alexey-navalny-dead-russia-prison-02-16-24/index.html\n",
            "Processando link: https://edition.cnn.com/2018/04/16/europe/meghan-markle-fast-facts/index.html\n",
            "Processando link: https://edition.cnn.com/sport/live-news/super-bowl-chiefs-49ers-02-11-24/index.html\n",
            "Processando link: https://edition.cnn.com/2022/11/07/sport/football-violence-essay-lake-cec/index.html\n",
            "Processando link: https://edition.cnn.com/2013/06/27/world/europe/prince-charles-fast-facts/index.html\n",
            "Processando link: https://edition.cnn.com/2023/08/25/sport/iten-killings-women-athletes-domestic-violence-kenya-as-equals-intl-cmd/index.html\n",
            "Processando link: https://edition.cnn.com/2012/12/06/world/europe/duchess-catherine---fast-facts/index.html\n",
            "Processando link: https://edition.cnn.com/europe/live-news/russia-attack-moscow-03-25-24/index.html\n",
            "Processando link: https://edition.cnn.com/europe/live-news/moscow-russia-shooting-03-24-24/index.html\n",
            "Processando link: https://edition.cnn.com/europe/live-news/moscow-russia-shooting-03-23-24/index.html\n",
            "Processando link: https://edition.cnn.com/europe/live-news/moscow-russia-shooting-03-xx-24/index.html\n",
            "Processando link: https://edition.cnn.com/uk/live-news/princess-wales-catherine-cancer-intl/index.html\n",
            "Processando link: https://edition.cnn.com/2013/01/03/world/europe/vladimir-putin---fast-facts/index.html\n",
            "Processando link: https://edition.cnn.com/2016/08/02/europe/theresa-may-fast-facts/index.html\n",
            "Processando link: https://edition.cnn.com/2014/03/13/world/europe/2008-georgia-russia-conflict/index.html\n",
            "Processando link: https://edition.cnn.com/2013/08/05/world/europe/john-major-fast-facts/index.html\n",
            "Processando link: https://edition.cnn.com/2014/07/14/world/europe/cristiano-ronaldo-fast-facts/index.html\n",
            "Processando link: https://edition.cnn.com/2012/12/07/world/europe/prince-albert-of-monaco---fast-facts/index.html\n",
            "Processando link: https://edition.cnn.com/2012/12/27/world/europe/mario-monti---fast-facts/index.html\n",
            "Processando link: https://edition.cnn.com/europe/live-news/navalny-funeral-moscow-russia-03-01-24/index.html\n",
            "Processando link: https://edition.cnn.com/2013/05/16/world/europe/david-beckham-fast-facts/index.html\n",
            "Processando link: https://edition.cnn.com/2013/05/17/world/europe/tony-blair-fast-facts/index.html\n",
            "Processando link: https://edition.cnn.com/2023/04/22/football/wrexham-promotion-ryan-reynolds-rob-mcelhenney-spt-intl/index.html\n",
            "Processando link: https://edition.cnn.com/australia/live-news/sydney-mall-attack-updates-intl/index.html\n",
            "Processando link: https://edition.cnn.com/2013/03/25/world/europe/dominique-strauss-kahn-fast-facts/index.html\n",
            "Processando link: https://edition.cnn.com/2023/04/05/golf/black-caddies-masters-augusta-national-spt-spc-intl/index.html\n",
            "Processando link: https://edition.cnn.com/2023/04/03/golf/rory-mcilroy-masters-meltdown-2011-spt-spc-intl/index.html\n",
            "Processando link: https://edition.cnn.com/2023/04/04/golf/green-jacket-masters-history-spc-spt-intl/index.html\n",
            "Processando link: https://edition.cnn.com/2022/04/08/golf/caddies-white-jumpsuit-masters-spt-intl/index.html\n",
            "Processando link: https://edition.cnn.com/2022/12/16/golf/worlds-most-bizarre-golf-courses-spc-intl/index.html\n",
            "Processando link: https://edition.cnn.com/europe/live-news/russia-ukraine-war-news-05-15-24/index.html\n",
            "Processando link: https://edition.cnn.com/europe/live-news/russia-ukraine-war-news-05-14-24/index.html\n",
            "Artigos sobre a guerra na Ucrânia encontrados: 16\n",
            "https://edition.cnn.com/europe/live-news/russia-military-plane-belgorod-ukraine-updates-intl/index.html\n",
            "https://edition.cnn.com/europe/live-news/russia-ukraine-war-news-02-27-24/index.html\n",
            "https://edition.cnn.com/europe/live-news/russia-ukraine-war-news-02-26-24/index.html\n",
            "https://edition.cnn.com/europe/live-news/russia-ukraine-war-news-02-25-24/index.html\n",
            "https://edition.cnn.com/europe/live-news/russia-ukraine-war-news-02-24-24/index.html\n",
            "https://edition.cnn.com/europe/live-news/russia-ukraine-war-news-02-23-24/index.html\n",
            "https://edition.cnn.com/europe/live-news/russia-ukraine-war-news-02-22-24/index.html\n",
            "https://edition.cnn.com/europe/live-news/russia-ukraine-war-news-02-21-24/index.html\n",
            "https://edition.cnn.com/europe/live-news/russia-ukraine-war-news-02-20-24/index.html\n",
            "https://edition.cnn.com/europe/live-news/russia-ukraine-war-news-02-19-24/index.html\n",
            "https://edition.cnn.com/europe/live-news/alexey-navalny-dead-russia-prison-02-16-24/index.html\n",
            "https://edition.cnn.com/europe/live-news/moscow-russia-shooting-03-24-24/index.html\n",
            "https://edition.cnn.com/2013/01/03/world/europe/vladimir-putin---fast-facts/index.html\n",
            "https://edition.cnn.com/europe/live-news/navalny-funeral-moscow-russia-03-01-24/index.html\n",
            "https://edition.cnn.com/europe/live-news/russia-ukraine-war-news-05-15-24/index.html\n",
            "https://edition.cnn.com/europe/live-news/russia-ukraine-war-news-05-14-24/index.html\n"
          ]
        }
      ]
    },
    {
      "cell_type": "markdown",
      "source": [
        "7 - Antes do resultado final o código realiza os seguintes cálculos:\n",
        "\n",
        " - Define a meta anual de artigos e a meta mensal.\n",
        "\n",
        " - Calcula o número total de meses analisados, artigos publicados e artigos com conteúdo relacionado à guerra.\n",
        "\n",
        " - Calcula a média mensal de artigos com conteúdo relacionado à guerra.\n",
        "\n",
        " - Calcula o número de meses restantes no ano e o número de artigos com conteúdo relacionado à guerra que ainda precisam ser publicados para atingir a meta anual.\n",
        "\n",
        " - Calcula a média de artigos com conteúdo relacionado à guerra que precisam ser publicados nos meses restantes para atingir a meta anual, arredondando para cima."
      ],
      "metadata": {
        "id": "6GaXd4ZEby4K"
      }
    },
    {
      "cell_type": "code",
      "source": [
        "# Cálculos\n",
        "\n",
        "meta_ano = 48\n",
        "meta_media_mensal = meta_ano / 12\n",
        "\n",
        "total_meses_analisados = len(urls_mensais)\n",
        "total_artigos_publicados = len(links)\n",
        "total_artigos_guerra = len(artigos_guerra)\n",
        "\n",
        "media_mensal = total_artigos_guerra / total_meses_analisados\n",
        "meses_restantes = 12 - total_meses_analisados\n",
        "total_restante = meta_ano - total_artigos_guerra\n",
        "media_restante = math.ceil(total_restante / meses_restantes)\n"
      ],
      "metadata": {
        "id": "5sp8GR5Lxraa"
      },
      "execution_count": null,
      "outputs": []
    },
    {
      "cell_type": "markdown",
      "source": [
        "# **Possível tomada de decisão com base nos resultados apresentados:**"
      ],
      "metadata": {
        "id": "6aPe5WeXwf7D"
      }
    },
    {
      "cell_type": "markdown",
      "source": [
        "8 - Por fim, o código exibe o número total de meses analisados, que é o comprimento da lista \"total_meses_analisados\", o número total de artigos publicados nos meses analisados, que é o comprimento da lista \"total_artigos_publicados\", o número total de artigos com conteúdo relacionado à guerra na Ucrânia, que é o comprimento da lista \"total_artigos_guerra\", e calcula e exibe a média de artigos publicados com conteúdo relacionado à guerra na Ucrânia por mês, dividindo o total de artigos pelo número de meses analisados."
      ],
      "metadata": {
        "id": "I0gcT7fFc9gU"
      }
    },
    {
      "cell_type": "code",
      "source": [
        "# Exibir o total de meses analisados\n",
        "print(f'Total de meses analisados: {total_meses_analisados}')\n",
        "\n",
        "# Exibir o total de artigos publicados\n",
        "print(f'\\nTotal de artigos publicados nos {total_meses_analisados} meses analisados: {total_artigos_publicados}')\n",
        "\n",
        "# Exibir o total de artigos encontrados sobre a Ucrânia\n",
        "print(f'\\nTotal de artigos com conteúdo relacionado à guerra na Ucrânia: {total_artigos_guerra}')\n",
        "\n",
        "# Calculando a média por mês de artigos publicados sobre a guerra\n",
        "print(f'\\nMédia (por mês) de artigos publicados com conteúdo relacionado à guerra na Ucrânia: {media_mensal}\\n')\n",
        "\n",
        "print('-'*80)\n",
        "\n",
        "if media_mensal >= meta_media_mensal:\n",
        "  print('\\nA produção está dentro da meta prevista.')\n",
        "else:\n",
        "  print(\n",
        "      f'''\\nA produção está abaixo da meta!\n",
        "\\nPara atingir a meta, precisamos publicar {total_restante} artigos nos próximos {meses_restantes} meses, uma média de {media_restante} artigos por mês.\n",
        "  ''')\n"
      ],
      "metadata": {
        "id": "bJx-bY8oOH0m",
        "colab": {
          "base_uri": "https://localhost:8080/"
        },
        "outputId": "326e5189-b1cb-4a05-8db4-a276b6d7945b"
      },
      "execution_count": null,
      "outputs": [
        {
          "output_type": "stream",
          "name": "stdout",
          "text": [
            "Total de meses analisados: 5\n",
            "\n",
            "Total de artigos publicados nos 5 meses analisados: 49\n",
            "\n",
            "Total de artigos com conteúdo relacionado à guerra na Ucrânia: 16\n",
            "\n",
            "Média (por mês) de artigos publicados com conteúdo relacionado à guerra na Ucrânia: 3.2\n",
            "\n",
            "--------------------------------------------------------------------------------\n",
            "\n",
            "A produção está abaixo da meta!\n",
            "\n",
            "Para atingir a meta, precisamos publicar 32 artigos nos próximos 7 meses, uma média de 5 artigos por mês.\n",
            "  \n"
          ]
        }
      ]
    },
    {
      "cell_type": "markdown",
      "source": [
        "9 - Possibilitando, com isso, a tomada de decisão por parte do gestor da redação de jornalismo da CNN."
      ],
      "metadata": {
        "id": "I73cR4-ndp6I"
      }
    }
  ]
}